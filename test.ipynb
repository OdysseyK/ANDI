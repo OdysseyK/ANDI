{
 "cells": [
  {
   "cell_type": "code",
   "execution_count": 1,
   "id": "9dec14a4",
   "metadata": {},
   "outputs": [],
   "source": [
    "import pandas as pd\n",
    "import json\n",
    "import numpy as np"
   ]
  },
  {
   "cell_type": "code",
   "execution_count": 2,
   "id": "11c72fcd",
   "metadata": {},
   "outputs": [
    {
     "data": {
      "text/html": [
       "<div>\n",
       "<style scoped>\n",
       "    .dataframe tbody tr th:only-of-type {\n",
       "        vertical-align: middle;\n",
       "    }\n",
       "\n",
       "    .dataframe tbody tr th {\n",
       "        vertical-align: top;\n",
       "    }\n",
       "\n",
       "    .dataframe thead th {\n",
       "        text-align: right;\n",
       "    }\n",
       "</style>\n",
       "<table border=\"1\" class=\"dataframe\">\n",
       "  <thead>\n",
       "    <tr style=\"text-align: right;\">\n",
       "      <th></th>\n",
       "      <th>Name</th>\n",
       "      <th>Height</th>\n",
       "      <th>Weight</th>\n",
       "      <th>Activity</th>\n",
       "      <th>Birthdate</th>\n",
       "      <th>Watch</th>\n",
       "      <th>Fitness</th>\n",
       "      <th>Environment</th>\n",
       "      <th>Goal</th>\n",
       "      <th>Gender</th>\n",
       "      <th>Scan</th>\n",
       "    </tr>\n",
       "    <tr>\n",
       "      <th>WaId</th>\n",
       "      <th></th>\n",
       "      <th></th>\n",
       "      <th></th>\n",
       "      <th></th>\n",
       "      <th></th>\n",
       "      <th></th>\n",
       "      <th></th>\n",
       "      <th></th>\n",
       "      <th></th>\n",
       "      <th></th>\n",
       "      <th></th>\n",
       "    </tr>\n",
       "  </thead>\n",
       "  <tbody>\n",
       "    <tr>\n",
       "      <th>5215579188699</th>\n",
       "      <td>Fernando Camacho</td>\n",
       "      <td>176cm</td>\n",
       "      <td>70</td>\n",
       "      <td>Moderately</td>\n",
       "      <td>January 1st 1991</td>\n",
       "      <td>Yes</td>\n",
       "      <td>Intermediate</td>\n",
       "      <td>Hybrid</td>\n",
       "      <td>Gain muscle</td>\n",
       "      <td>Male</td>\n",
       "      <td>Yes</td>\n",
       "    </tr>\n",
       "    <tr>\n",
       "      <th>5214422522438</th>\n",
       "      <td>José Luis Zamudio Rivera</td>\n",
       "      <td>168</td>\n",
       "      <td>65</td>\n",
       "      <td>Algo activo</td>\n",
       "      <td>03/12/1996</td>\n",
       "      <td>Híbrido</td>\n",
       "      <td>Principiante</td>\n",
       "      <td>Ganar musculo</td>\n",
       "      <td>Ganar musculo</td>\n",
       "      <td>Hombre</td>\n",
       "      <td>Si</td>\n",
       "    </tr>\n",
       "    <tr>\n",
       "      <th>37498901873</th>\n",
       "      <td>Karen</td>\n",
       "      <td>175</td>\n",
       "      <td>65</td>\n",
       "      <td>moderadamente activo</td>\n",
       "      <td>July 21, 2002</td>\n",
       "      <td>híbrido</td>\n",
       "      <td>intermedio</td>\n",
       "      <td>híbrido</td>\n",
       "      <td>ganar músculo</td>\n",
       "      <td>Hombre</td>\n",
       "      <td>no</td>\n",
       "    </tr>\n",
       "  </tbody>\n",
       "</table>\n",
       "</div>"
      ],
      "text/plain": [
       "                                   Name Height  Weight              Activity  \\\n",
       "WaId                                                                           \n",
       "5215579188699          Fernando Camacho  176cm      70            Moderately   \n",
       "5214422522438  José Luis Zamudio Rivera    168      65           Algo activo   \n",
       "37498901873                       Karen    175      65  moderadamente activo   \n",
       "\n",
       "                      Birthdate    Watch       Fitness    Environment  \\\n",
       "WaId                                                                    \n",
       "5215579188699  January 1st 1991      Yes  Intermediate         Hybrid   \n",
       "5214422522438        03/12/1996  Híbrido  Principiante  Ganar musculo   \n",
       "37498901873       July 21, 2002  híbrido    intermedio        híbrido   \n",
       "\n",
       "                        Goal  Gender Scan  \n",
       "WaId                                       \n",
       "5215579188699    Gain muscle    Male  Yes  \n",
       "5214422522438  Ganar musculo  Hombre   Si  \n",
       "37498901873    ganar músculo  Hombre   no  "
      ]
     },
     "execution_count": 2,
     "metadata": {},
     "output_type": "execute_result"
    }
   ],
   "source": [
    "df = pd.read_csv('gpt_data.csv').set_index(\"WaId\")\n",
    "df"
   ]
  },
  {
   "cell_type": "code",
   "execution_count": 11,
   "id": "e9159c09",
   "metadata": {},
   "outputs": [
    {
     "name": "stdout",
     "output_type": "stream",
     "text": [
      "\"Name\":\"Karen\"\n",
      "\"Height\":175\n",
      "\"Weight\":65\n",
      "\"Activity\":\"active\"\n",
      "\"Birthdate\":\"07\\/21\\/02\"\n",
      "\"Watch\":\"no\"\n",
      "\"Fitness\":\"intermediate\"\n",
      "\"Environment\":\"hybrid\"\n",
      "\"Goal\":\"gain muscle\"\n",
      "\"Gender\":\"male\"\n",
      "\"Scan\":\"no\"\n"
     ]
    }
   ],
   "source": [
    "print(\"\\n\".join(df.iloc[0].to_json()[1:-1].split(\",\")))"
   ]
  },
  {
   "cell_type": "code",
   "execution_count": 16,
   "id": "c2e4233b",
   "metadata": {},
   "outputs": [],
   "source": [
    "import requests"
   ]
  },
  {
   "cell_type": "code",
   "execution_count": 17,
   "id": "4fa11ba8",
   "metadata": {},
   "outputs": [],
   "source": [
    "get_endpoint = \"https://api-dev.worqout.io/api/v5/users/andi/get-log\"\n",
    "send_endpoint = \"https://api-dev.worqout.mx/api/v5/users/andi/register-log\""
   ]
  },
  {
   "cell_type": "code",
   "execution_count": 3,
   "id": "d704a779",
   "metadata": {},
   "outputs": [],
   "source": [
    "params = {'email':\"jzamudio@worqout.io\"}"
   ]
  },
  {
   "cell_type": "code",
   "execution_count": 5,
   "id": "8f202ce7",
   "metadata": {},
   "outputs": [
    {
     "data": {
      "text/plain": [
       "{'data': {'id': 7,\n",
       "  'wa_id': '4422522438',\n",
       "  'name': 'Jose',\n",
       "  'email': 'jzamudio@worqout.io',\n",
       "  'verification_code': 'dscs5d3',\n",
       "  'height': '168',\n",
       "  'weight': '65',\n",
       "  'activity': 'Active',\n",
       "  'birthdate': '03-12-1996',\n",
       "  'watch': 'no',\n",
       "  'fitness': 'intermediate',\n",
       "  'environment': 'hybrid',\n",
       "  'goal': 'gain muscle',\n",
       "  'gender': 'male',\n",
       "  'scan': 'yes',\n",
       "  'created_at': '2023-05-15T17:17:54.000000Z',\n",
       "  'updated_at': '2023-05-15T17:17:54.000000Z'}}"
      ]
     },
     "execution_count": 5,
     "metadata": {},
     "output_type": "execute_result"
    }
   ],
   "source": [
    "req = requests.get(url=get_endpoint, params=params)\n",
    "req.json()"
   ]
  },
  {
   "cell_type": "code",
   "execution_count": 3,
   "id": "25ddc8ca",
   "metadata": {},
   "outputs": [
    {
     "data": {
      "text/html": [
       "<div>\n",
       "<style scoped>\n",
       "    .dataframe tbody tr th:only-of-type {\n",
       "        vertical-align: middle;\n",
       "    }\n",
       "\n",
       "    .dataframe tbody tr th {\n",
       "        vertical-align: top;\n",
       "    }\n",
       "\n",
       "    .dataframe thead th {\n",
       "        text-align: right;\n",
       "    }\n",
       "</style>\n",
       "<table border=\"1\" class=\"dataframe\">\n",
       "  <thead>\n",
       "    <tr style=\"text-align: right;\">\n",
       "      <th></th>\n",
       "      <th>WaId</th>\n",
       "      <th>Name</th>\n",
       "      <th>Height</th>\n",
       "      <th>Weight</th>\n",
       "      <th>Activity</th>\n",
       "      <th>Birthdate</th>\n",
       "      <th>Watch</th>\n",
       "      <th>Fitness</th>\n",
       "      <th>Environment</th>\n",
       "      <th>Goal</th>\n",
       "      <th>Gender</th>\n",
       "      <th>Scan</th>\n",
       "    </tr>\n",
       "  </thead>\n",
       "  <tbody>\n",
       "    <tr>\n",
       "      <th>0</th>\n",
       "      <td>5215579188699</td>\n",
       "      <td>Fernando Camacho</td>\n",
       "      <td>176cm</td>\n",
       "      <td>70</td>\n",
       "      <td>Moderately</td>\n",
       "      <td>January 1st 1991</td>\n",
       "      <td>Yes</td>\n",
       "      <td>Intermediate</td>\n",
       "      <td>Hybrid</td>\n",
       "      <td>Gain muscle</td>\n",
       "      <td>Male</td>\n",
       "      <td>Yes</td>\n",
       "    </tr>\n",
       "    <tr>\n",
       "      <th>1</th>\n",
       "      <td>5214422522438</td>\n",
       "      <td>José Luis Zamudio Rivera</td>\n",
       "      <td>168</td>\n",
       "      <td>65</td>\n",
       "      <td>Algo activo</td>\n",
       "      <td>03/12/1996</td>\n",
       "      <td>Híbrido</td>\n",
       "      <td>Principiante</td>\n",
       "      <td>Ganar musculo</td>\n",
       "      <td>Ganar musculo</td>\n",
       "      <td>Hombre</td>\n",
       "      <td>Si</td>\n",
       "    </tr>\n",
       "    <tr>\n",
       "      <th>2</th>\n",
       "      <td>37498901873</td>\n",
       "      <td>Karen</td>\n",
       "      <td>175</td>\n",
       "      <td>65</td>\n",
       "      <td>moderadamente activo</td>\n",
       "      <td>July 21, 2002</td>\n",
       "      <td>híbrido</td>\n",
       "      <td>intermedio</td>\n",
       "      <td>híbrido</td>\n",
       "      <td>ganar músculo</td>\n",
       "      <td>Hombre</td>\n",
       "      <td>no</td>\n",
       "    </tr>\n",
       "  </tbody>\n",
       "</table>\n",
       "</div>"
      ],
      "text/plain": [
       "            WaId                      Name Height  Weight  \\\n",
       "0  5215579188699          Fernando Camacho  176cm      70   \n",
       "1  5214422522438  José Luis Zamudio Rivera    168      65   \n",
       "2    37498901873                     Karen    175      65   \n",
       "\n",
       "               Activity         Birthdate    Watch       Fitness  \\\n",
       "0            Moderately  January 1st 1991      Yes  Intermediate   \n",
       "1           Algo activo        03/12/1996  Híbrido  Principiante   \n",
       "2  moderadamente activo     July 21, 2002  híbrido    intermedio   \n",
       "\n",
       "     Environment           Goal  Gender Scan  \n",
       "0         Hybrid    Gain muscle    Male  Yes  \n",
       "1  Ganar musculo  Ganar musculo  Hombre   Si  \n",
       "2        híbrido  ganar músculo  Hombre   no  "
      ]
     },
     "execution_count": 3,
     "metadata": {},
     "output_type": "execute_result"
    }
   ],
   "source": [
    "df = pd.read_csv('gpt_data.csv')\n",
    "df"
   ]
  },
  {
   "cell_type": "code",
   "execution_count": 7,
   "id": "d01b9250",
   "metadata": {
    "scrolled": true
   },
   "outputs": [
    {
     "data": {
      "text/plain": [
       "{'WaId': 5215579188699,\n",
       " 'Name': 'Fernando Camacho',\n",
       " 'Height': '176cm',\n",
       " 'Weight': 70,\n",
       " 'Activity': 'Moderately',\n",
       " 'Birthdate': 'January 1st 1991',\n",
       " 'Watch': 'Yes',\n",
       " 'Fitness': 'Intermediate',\n",
       " 'Environment': 'Hybrid',\n",
       " 'Goal': 'Gain muscle',\n",
       " 'Gender': 'Male',\n",
       " 'Scan': 'Yes'}"
      ]
     },
     "execution_count": 7,
     "metadata": {},
     "output_type": "execute_result"
    }
   ],
   "source": [
    "karen = df.loc[0]\n",
    "json.loads(karen.to_json())"
   ]
  },
  {
   "cell_type": "code",
   "execution_count": 24,
   "id": "0deeb40b",
   "metadata": {},
   "outputs": [],
   "source": [
    "karen = {\"wa_id\": 37498901873,\n",
    " \"name\": \"Karen\",\n",
    " \"height\": \"175\",\n",
    " \"email\": \"karen@worqout.io\",\n",
    " \"verification_code\": \"k10795\",\n",
    " \"weight\": 65,\n",
    " \"activity\": \"Active\",\n",
    " \"birthdate\": \"July 21, 2002\",\n",
    " \"watch\": \"No\",\n",
    " \"fitness\": \"Intermediate\",\n",
    " \"environment\": \"Hybrid\",\n",
    " \"goal\": \"Build Strength\",\n",
    " \"gender\": \"Male\",\n",
    " \"scan\": None}"
   ]
  },
  {
   "cell_type": "code",
   "execution_count": 25,
   "id": "a607b440",
   "metadata": {},
   "outputs": [
    {
     "data": {
      "text/plain": [
       "{'data': {'id': 2,\n",
       "  'wa_id': '3434434343',\n",
       "  'name': None,\n",
       "  'email': None,\n",
       "  'verification_code': None,\n",
       "  'height': None,\n",
       "  'weight': None,\n",
       "  'activity': None,\n",
       "  'birthdate': None,\n",
       "  'watch': None,\n",
       "  'fitness': None,\n",
       "  'environment': None,\n",
       "  'goal': None,\n",
       "  'gender': None,\n",
       "  'scan': None,\n",
       "  'created_at': '2023-04-20T00:45:56.000000Z',\n",
       "  'updated_at': '2023-04-20T00:45:56.000000Z'}}"
      ]
     },
     "execution_count": 25,
     "metadata": {},
     "output_type": "execute_result"
    }
   ],
   "source": [
    "rp = requests.post(url=send_endpoint, data=karen)\n",
    "rg = requests.get(url=get_endpoint, params={'wa_id':\"37498901873\"})\n",
    "rg.json()"
   ]
  },
  {
   "cell_type": "code",
   "execution_count": 28,
   "id": "f336c995",
   "metadata": {},
   "outputs": [
    {
     "data": {
      "text/plain": [
       "<Response [502]>"
      ]
     },
     "execution_count": 28,
     "metadata": {},
     "output_type": "execute_result"
    }
   ],
   "source": [
    "rp = requests.post(url=send_endpoint, data=karen)\n",
    "rp"
   ]
  },
  {
   "cell_type": "code",
   "execution_count": null,
   "id": "fe41363a",
   "metadata": {},
   "outputs": [],
   "source": []
  }
 ],
 "metadata": {
  "kernelspec": {
   "display_name": "Python 3 (ipykernel)",
   "language": "python",
   "name": "python3"
  },
  "language_info": {
   "codemirror_mode": {
    "name": "ipython",
    "version": 3
   },
   "file_extension": ".py",
   "mimetype": "text/x-python",
   "name": "python",
   "nbconvert_exporter": "python",
   "pygments_lexer": "ipython3",
   "version": "3.8.10"
  }
 },
 "nbformat": 4,
 "nbformat_minor": 5
}
